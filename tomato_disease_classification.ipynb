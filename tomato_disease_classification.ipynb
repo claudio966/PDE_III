{
  "nbformat": 4,
  "nbformat_minor": 0,
  "metadata": {
    "accelerator": "GPU",
    "colab": {
      "name": "tomato_disease_classification.ipynb",
      "provenance": [],
      "collapsed_sections": []
    },
    "kernelspec": {
      "display_name": "Python 3",
      "name": "python3"
    },
    "language_info": {
      "name": "python"
    }
  },
  "cells": [
    {
      "cell_type": "code",
      "metadata": {
        "id": "E40Kn5PtS8eV"
      },
      "source": [
        "import os\n",
        "\n",
        "# caminho para o diretório com os arquivos do projeto\n",
        "path = '/content/drive/MyDrive/Tomato_Data_TensorFlow'\n",
        "\n",
        "bacterial_spot_dir = os.path.join(path + '/diseases/bacterial_spot')\n",
        "early_blight_dir = os.path.join(path + '/diseases/early_blight')\n",
        "healthy_dir = os.path.join(path + '/diseases/healthy')\n",
        "late_blight_dir = os.path.join(path + '/diseases/late_blight')\n",
        "mosaic_virus_dir = os.path.join(path + '/diseases/mosaic_virus')\n",
        "yellow_leaf_dir = os.path.join(path + '/diseases/yellow_leaf_curl_virus')\n",
        "\n",
        "validation_bacterial_spot_dir = os.path.join(path + '/validation-diseases/bacterial_spot')\n",
        "validation_early_blight_dir = os.path.join(path + '/validation-diseases/early_blight')\n",
        "validation_healthy_dir = os.path.join(path + '/validation-diseases/healthy')\n",
        "validation_late_blight_dir = os.path.join(path + '/validation-diseases/late_blight')\n",
        "validation_mosaic_virus_dir = os.path.join(path + '/validation-diseases/mosaic_virus')\n",
        "validation_yellow_leaf_dir = os.path.join(path + '/validation-diseases/yellow_leaf_curl_virus')\n",
        "\n"
      ],
      "execution_count": null,
      "outputs": []
    },
    {
      "cell_type": "code",
      "metadata": {
        "id": "_DYZV3E_Y_Qt"
      },
      "source": [
        "bacterial_spot = os.listdir(bacterial_spot_dir)\n",
        "early_blight = os.listdir(early_blight_dir)\n",
        "healthy = os.listdir(healthy_dir)\n",
        "late_blight = os.listdir(late_blight_dir)\n",
        "mosaic_virus = os.listdir(mosaic_virus_dir)\n",
        "yellow_leaf = os.listdir(yellow_leaf_dir)\n",
        "\n",
        "validation_bacterial_spot = os.listdir(validation_bacterial_spot_dir)\n",
        "validation_early_blight = os.listdir(validation_early_blight_dir)\n",
        "validation_healthy = os.listdir(validation_healthy_dir)\n",
        "validation_late_blight = os.listdir(validation_late_blight_dir)\n",
        "validation_mosaic_virus = os.listdir(validation_mosaic_virus_dir)\n",
        "validation_yellow_leaf = os.listdir(validation_yellow_leaf_dir)"
      ],
      "execution_count": null,
      "outputs": []
    },
    {
      "cell_type": "markdown",
      "metadata": {
        "id": "kzp-paOD4Qvx"
      },
      "source": [
        "## Criação do modelo"
      ]
    },
    {
      "cell_type": "code",
      "metadata": {
        "colab": {
          "base_uri": "https://localhost:8080/"
        },
        "id": "zjLpQKu8ZCqY",
        "outputId": "1dcd73aa-3163-49a8-e5da-0e0c7a7c1d15"
      },
      "source": [
        "import tensorflow as tf\n",
        "tf.config.experimental_run_functions_eagerly(True)\n",
        "\n",
        "model = tf.keras.Sequential()\n",
        "\n",
        "model.add(tf.keras.layers.Conv2D(16, (3,3), activation='relu', input_shape=(256,256,3)))\n",
        "model.add(tf.keras.layers.MaxPooling2D(2,2))\n",
        "model.add(tf.keras.layers.Conv2D(32, (3,3), activation='relu'))\n",
        "model.add(tf.keras.layers.MaxPooling2D(2,2))\n",
        "model.add(tf.keras.layers.Conv2D(64, (3,3), activation='relu'))\n",
        "model.add(tf.keras.layers.MaxPooling2D(2,2))\n",
        "model.add(tf.keras.layers.Conv2D(64, (3,3), activation='relu'))\n",
        "model.add(tf.keras.layers.MaxPooling2D(2,2))\n",
        "model.add(tf.keras.layers.Conv2D(64, (3,3), activation='relu'))\n",
        "model.add(tf.keras.layers.MaxPooling2D(2,2))\n",
        "model.add(tf.keras.layers.Flatten())\n",
        "model.add(tf.keras.layers.Dense(512, activation='relu'))\n",
        "model.add(tf.keras.layers.Dense(6, activation='softmax'))"
      ],
      "execution_count": null,
      "outputs": [
        {
          "output_type": "stream",
          "name": "stdout",
          "text": [
            "WARNING:tensorflow:From <ipython-input-1-d8aae4d552e8>:2: experimental_run_functions_eagerly (from tensorflow.python.eager.def_function) is deprecated and will be removed in a future version.\n",
            "Instructions for updating:\n",
            "Use `tf.config.run_functions_eagerly` instead of the experimental version.\n"
          ]
        }
      ]
    },
    {
      "cell_type": "code",
      "metadata": {
        "colab": {
          "base_uri": "https://localhost:8080/"
        },
        "id": "zDfon3SDbh2F",
        "outputId": "175cfedd-2102-4b0f-8df9-7ade56a5ca95"
      },
      "source": [
        "model.summary()"
      ],
      "execution_count": null,
      "outputs": [
        {
          "output_type": "stream",
          "name": "stdout",
          "text": [
            "Model: \"sequential\"\n",
            "_________________________________________________________________\n",
            " Layer (type)                Output Shape              Param #   \n",
            "=================================================================\n",
            " conv2d (Conv2D)             (None, 254, 254, 16)      448       \n",
            "                                                                 \n",
            " max_pooling2d (MaxPooling2D  (None, 127, 127, 16)     0         \n",
            " )                                                               \n",
            "                                                                 \n",
            " conv2d_1 (Conv2D)           (None, 125, 125, 32)      4640      \n",
            "                                                                 \n",
            " max_pooling2d_1 (MaxPooling  (None, 62, 62, 32)       0         \n",
            " 2D)                                                             \n",
            "                                                                 \n",
            " conv2d_2 (Conv2D)           (None, 60, 60, 64)        18496     \n",
            "                                                                 \n",
            " max_pooling2d_2 (MaxPooling  (None, 30, 30, 64)       0         \n",
            " 2D)                                                             \n",
            "                                                                 \n",
            " conv2d_3 (Conv2D)           (None, 28, 28, 64)        36928     \n",
            "                                                                 \n",
            " max_pooling2d_3 (MaxPooling  (None, 14, 14, 64)       0         \n",
            " 2D)                                                             \n",
            "                                                                 \n",
            " conv2d_4 (Conv2D)           (None, 12, 12, 64)        36928     \n",
            "                                                                 \n",
            " max_pooling2d_4 (MaxPooling  (None, 6, 6, 64)         0         \n",
            " 2D)                                                             \n",
            "                                                                 \n",
            " flatten (Flatten)           (None, 2304)              0         \n",
            "                                                                 \n",
            " dense (Dense)               (None, 512)               1180160   \n",
            "                                                                 \n",
            " dense_1 (Dense)             (None, 6)                 3078      \n",
            "                                                                 \n",
            "=================================================================\n",
            "Total params: 1,280,678\n",
            "Trainable params: 1,280,678\n",
            "Non-trainable params: 0\n",
            "_________________________________________________________________\n"
          ]
        }
      ]
    },
    {
      "cell_type": "markdown",
      "metadata": {
        "id": "1WAmXf8P4ZIp"
      },
      "source": [
        "## Escolha da função objeto e do otimizador a ser utilizado, tal como compilação do modelo"
      ]
    },
    {
      "cell_type": "code",
      "metadata": {
        "id": "ArkZH4Kubj6V"
      },
      "source": [
        "from tensorflow.keras.optimizers import Adam\n",
        "from tensorflow.keras.losses import CategoricalCrossentropy\n",
        "\n",
        "model.compile(loss=CategoricalCrossentropy(),\n",
        "              optimizer=Adam(),\n",
        "              metrics=['accuracy'])"
      ],
      "execution_count": null,
      "outputs": []
    },
    {
      "cell_type": "markdown",
      "metadata": {
        "id": "UffApa-B4mcw"
      },
      "source": [
        "## Tratamento do dataset "
      ]
    },
    {
      "cell_type": "code",
      "metadata": {
        "colab": {
          "base_uri": "https://localhost:8080/"
        },
        "id": "csw9Kyg7m3vk",
        "outputId": "90f5c3be-a62f-4594-98f9-0a659621080c"
      },
      "source": [
        "from tensorflow.keras.preprocessing.image import ImageDataGenerator\n",
        "\n",
        "path = '/content/drive/MyDrive/Tomato_Data_TensorFlow'\n",
        "\n",
        "train_data = ImageDataGenerator(rescale=1/255)\n",
        "\n",
        "validation = ImageDataGenerator(rescale=1/255)\n",
        "\n",
        "train_generator = train_data.flow_from_directory(\n",
        "    path + '/diseases/',\n",
        "    target_size=(256,256),\n",
        "    batch_size=128,\n",
        "    class_mode='categorical')\n",
        "validation_generator = validation.flow_from_directory(\n",
        "    path + '/validation-diseases/',\n",
        "    target_size=(256,256),\n",
        "    batch_size=32,\n",
        "    class_mode='categorical')"
      ],
      "execution_count": null,
      "outputs": [
        {
          "output_type": "stream",
          "name": "stdout",
          "text": [
            "Found 3428 images belonging to 6 classes.\n",
            "Found 710 images belonging to 6 classes.\n"
          ]
        }
      ]
    },
    {
      "cell_type": "markdown",
      "metadata": {
        "id": "hB9Bi4qP4w7f"
      },
      "source": [
        "## Treinamento do modelo"
      ]
    },
    {
      "cell_type": "code",
      "metadata": {
        "id": "87T0Y9eLqvML"
      },
      "source": [
        "history = model.fit(\n",
        "    train_generator,\n",
        "    steps_per_epoch=8,\n",
        "    epochs=15,\n",
        "    verbose=1,\n",
        "    validation_data = validation_generator,\n",
        "    validation_steps=8)"
      ],
      "execution_count": null,
      "outputs": []
    },
    {
      "cell_type": "code",
      "metadata": {
        "id": "lh_EVrewyKq6"
      },
      "source": [
        "import os, signal\n",
        "os.kill(os.getpid(), signal.SIGKILL)"
      ],
      "execution_count": null,
      "outputs": []
    }
  ]
}